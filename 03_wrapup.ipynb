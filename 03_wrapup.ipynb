{
 "cells": [
  {
   "cell_type": "markdown",
   "metadata": {},
   "source": [
    "# Links\n",
    "- GraphQL compiler: https://github.com/kensho-technologies/graphql-compiler\n",
    "\n",
    "- This demo: https://github.com/obi1kenobi/graphql-compiler-cross-db-example\n",
    "\n",
    "- Author's Github: https://github.com/obi1kenobi\n",
    "\n",
    "- Kensho blog: https://blog.kensho.com/\n",
    "\n",
    "- Original GraphQL compiler blog post (few years old at this point): https://blog.kensho.com/compiled-graphql-as-a-database-query-language-72e106844282\n",
    "\n",
    "### Thanks for your time!"
   ]
  }
 ],
 "metadata": {
  "kernelspec": {
   "display_name": "Python 3",
   "language": "python",
   "name": "python3"
  },
  "language_info": {
   "codemirror_mode": {
    "name": "ipython",
    "version": 3
   },
   "file_extension": ".py",
   "mimetype": "text/x-python",
   "name": "python",
   "nbconvert_exporter": "python",
   "pygments_lexer": "ipython3",
   "version": "3.6.8"
  }
 },
 "nbformat": 4,
 "nbformat_minor": 4
}
