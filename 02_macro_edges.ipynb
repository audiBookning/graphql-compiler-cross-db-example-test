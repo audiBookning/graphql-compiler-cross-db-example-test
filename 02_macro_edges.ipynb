{
 "cells": [
  {
   "cell_type": "code",
   "execution_count": null,
   "metadata": {},
   "outputs": [],
   "source": [
    "from graphql.utils.schema_printer import print_schema\n",
    "from graphql_compiler.macros import (\n",
    "    register_macro_edge, get_schema_with_macros, perform_macro_expansion\n",
    ")\n",
    "\n",
    "from demo.server.demo_helpers import (\n",
    "    get_schema, execute_query, pretty_print_data, get_empty_macro_registry, set_verbose_mode\n",
    ")"
   ]
  },
  {
   "cell_type": "code",
   "execution_count": null,
   "metadata": {},
   "outputs": [],
   "source": [
    "macro_registry = get_empty_macro_registry()"
   ]
  },
  {
   "cell_type": "markdown",
   "metadata": {},
   "source": [
    "## Macro edges\n",
    "Edges that are \"real\" in the schema, but are actually defined using GraphQL syntax and don't really exist in the underlying database(s).\n",
    "\n",
    "They are especially valuable for:\n",
    "- hiding database normalization\n",
    "- ensuring that different services use consistent definitions and methodologies\n",
    "- defining domain-specific functionality for a specific product"
   ]
  },
  {
   "cell_type": "markdown",
   "metadata": {},
   "source": [
    "This is how you define a new macro edge, called `out_Region_RegisteredAirlines` between `Region` and `Airline`.\n",
    "It accounts for the fact that airlines are registered in *countries*, and not *geographic regions*, then hides that from the user."
   ]
  },
  {
   "cell_type": "code",
   "execution_count": null,
   "metadata": {},
   "outputs": [],
   "source": [
    "macro_edge_graphql = '''{\n",
    "    Region @macro_edge_definition(name: \"out_Region_RegisteredAirlines\") {\n",
    "        out_GeographicArea_SubArea @recurse(depth: 5) {\n",
    "            ... on Country {\n",
    "                in_Airline_RegisteredIn @macro_edge_target {\n",
    "                    id\n",
    "                }\n",
    "            }\n",
    "        }\n",
    "    }\n",
    "}'''\n",
    "macro_edge_args = {}\n",
    "register_macro_edge(macro_registry, macro_edge_graphql, macro_edge_args)"
   ]
  },
  {
   "cell_type": "markdown",
   "metadata": {},
   "source": [
    "Similarly, this is how we define a new macro that allows us to easily look up all airports in a region."
   ]
  },
  {
   "cell_type": "code",
   "execution_count": null,
   "metadata": {},
   "outputs": [],
   "source": [
    "macro_edge_graphql = '''{\n",
    "    Region @macro_edge_definition(name: \"out_Region_ContainedAirports\") {\n",
    "        out_GeographicArea_SubArea @recurse(depth: 5) {\n",
    "            ... on Country {\n",
    "                in_Airport_BasedIn @macro_edge_target {\n",
    "                    id\n",
    "                }\n",
    "            }\n",
    "        }\n",
    "    }\n",
    "}'''\n",
    "macro_edge_args = {}\n",
    "register_macro_edge(macro_registry, macro_edge_graphql, macro_edge_args)"
   ]
  },
  {
   "cell_type": "markdown",
   "metadata": {},
   "source": [
    "Defined macros become part of the schema, and are invisible to the querying user."
   ]
  },
  {
   "cell_type": "code",
   "execution_count": null,
   "metadata": {},
   "outputs": [],
   "source": [
    "schema_with_macros = get_schema_with_macros(macro_registry)\n",
    "print(print_schema(schema_with_macros))"
   ]
  },
  {
   "cell_type": "markdown",
   "metadata": {},
   "source": [
    "When a query uses a macro edge, the macro is expanded before execution – producing a valid, macro-less query."
   ]
  },
  {
   "cell_type": "code",
   "execution_count": null,
   "metadata": {},
   "outputs": [],
   "source": [
    "# European airlines with names starting with \"W\" and ending in \"Air\"\n",
    "query = '''{\n",
    "    Region {\n",
    "        name @filter(op_name: \"=\", value: [\"$region\"])\n",
    "        \n",
    "        out_Region_RegisteredAirlines {\n",
    "            name @filter(op_name: \"ends_with\", value: [\"$suffix\"])\n",
    "                 @filter(op_name: \"starts_with\", value: [\"$prefix\"])\n",
    "                 @output(out_name: \"airline\")\n",
    "        }\n",
    "    }\n",
    "}'''\n",
    "args = {\n",
    "    'region': 'Europe',\n",
    "    'prefix': 'W',\n",
    "    'suffix': 'Air',\n",
    "}\n",
    "expanded_query, expanded_args = perform_macro_expansion(macro_registry, query, args)\n",
    "print(expanded_query)\n",
    "print(expanded_args)\n",
    "_, result = execute_query(expanded_query, expanded_args)\n",
    "pretty_print_data(result)"
   ]
  },
  {
   "cell_type": "markdown",
   "metadata": {},
   "source": [
    "### Macros with arguments\n",
    "\n",
    "Macro edges can take arguments as well. Consider the below macro, that connects `Airport` vertices to all other `Airport` vertices which can be reached by taking only direct flights operated by European carriers."
   ]
  },
  {
   "cell_type": "code",
   "execution_count": null,
   "metadata": {},
   "outputs": [],
   "source": [
    "macro_edge_graphql = '''{\n",
    "    Airport @macro_edge_definition(name: \"out_DirectlyConnectedViaEuropeanAirline_ToAirport\") {\n",
    "        in_FlightRoute_FromAirport {\n",
    "            stops @filter(op_name: \"=\", value: [\"$stops\"])\n",
    "        \n",
    "            out_FlightRoute_OperatingAirline {\n",
    "                out_Airline_RegisteredIn {\n",
    "                    in_GeographicArea_SubArea @recurse(depth: 5) {\n",
    "                        name @filter(op_name: \"=\", value: [\"$region_name\"])\n",
    "                    }\n",
    "                }\n",
    "            }\n",
    "            out_FlightRoute_ToAirport @macro_edge_target {\n",
    "                id\n",
    "            }\n",
    "        }\n",
    "    }\n",
    "}'''\n",
    "macro_edge_args = {\n",
    "    'region_name': 'Europe',\n",
    "    'stops': 0,\n",
    "}\n",
    "register_macro_edge(macro_registry, macro_edge_graphql, macro_edge_args)"
   ]
  },
  {
   "cell_type": "code",
   "execution_count": null,
   "metadata": {},
   "outputs": [],
   "source": [
    "# Direct flights operated by European airlines starting in the Caribbean\n",
    "query = '''{\n",
    "    Region {\n",
    "        name @filter(op_name: \"=\", value: [\"$region\"])\n",
    "        \n",
    "        out_Region_ContainedAirports {\n",
    "            name @output(out_name: \"airport_name\")\n",
    "            city_served @output(out_name: \"airport_city\")\n",
    "            iata_code @output(out_name: \"airport_code\")\n",
    "            \n",
    "            out_DirectlyConnectedViaEuropeanAirline_ToAirport {\n",
    "                name @output(out_name: \"destination_name\")\n",
    "                city_served @output(out_name: \"destination_city\")\n",
    "                iata_code @output(out_name: \"destination_code\")\n",
    "            }\n",
    "        }\n",
    "    }\n",
    "}'''\n",
    "args = {\n",
    "    'region': 'Caribbean',\n",
    "}\n",
    "expanded_query, expanded_args = perform_macro_expansion(macro_registry, query, args)\n",
    "print(expanded_query)\n",
    "print(expanded_args)\n",
    "_, result = execute_query(expanded_query, expanded_args)\n",
    "pretty_print_data(result)"
   ]
  },
  {
   "cell_type": "markdown",
   "metadata": {},
   "source": [
    "# The repository title promised cross-database querying. So where is it?"
   ]
  },
  {
   "cell_type": "markdown",
   "metadata": {},
   "source": [
    "**We've been doing it all along!** The countries and regions data is in a graph database called OrientDB, and the airlines, airports, and flights information is in Postgres.\n",
    "\n",
    "You probably have noticed that `execute_query` always returned two arguments, and we always ignored the first one. That's the distributed query plan!"
   ]
  },
  {
   "cell_type": "code",
   "execution_count": null,
   "metadata": {},
   "outputs": [],
   "source": [
    "from graphql_compiler.schema_transformation.query_plan import print_query_plan"
   ]
  },
  {
   "cell_type": "code",
   "execution_count": null,
   "metadata": {},
   "outputs": [],
   "source": [
    "query_plan, result = execute_query(expanded_query, expanded_args)\n",
    "print(print_query_plan(query_plan))"
   ]
  },
  {
   "cell_type": "code",
   "execution_count": null,
   "metadata": {},
   "outputs": [],
   "source": [
    "set_verbose_mode(True)\n",
    "query_plan, result = execute_query(expanded_query, expanded_args)\n",
    "set_verbose_mode(False)"
   ]
  },
  {
   "cell_type": "markdown",
   "metadata": {},
   "source": [
    "### Merging schemas\n",
    "\n",
    "The overall process is the following:\n",
    "- Get multiple schemas you'd like to merge together, and assign them unique identifiers.\n",
    "- Define any edges that cross from one schema to another, as the below cell shows.\n",
    "- If any schemas happen to define the same type names, use the GraphQL compiler's type renaming functionality to resolve the conflict.\n",
    "- Use the `merge_schemas()` function call to generate a merged schema descriptor, which includes a unified GraphQL schema and additional metadata used by the compiler.\n",
    "\n",
    "For full details, look at `cross_db_query.py`. "
   ]
  },
  {
   "cell_type": "code",
   "execution_count": null,
   "metadata": {},
   "outputs": [],
   "source": [
    "from graphql_compiler.schema_transformation.merge_schemas import (\n",
    "    CrossSchemaEdgeDescriptor, FieldReference,\n",
    ")\n",
    "cross_schema_edges = [\n",
    "    CrossSchemaEdgeDescriptor(\n",
    "        edge_name='Airport_BasedIn',\n",
    "        outbound_field_reference=FieldReference(\n",
    "            schema_id='postgres',\n",
    "            type_name='Airport',\n",
    "            field_name='alpha2_country',\n",
    "        ),\n",
    "        inbound_field_reference=FieldReference(\n",
    "            schema_id='orientdb',\n",
    "            type_name='Country',\n",
    "            field_name='alpha2',\n",
    "        ),\n",
    "        out_edge_only=False,\n",
    "    ),\n",
    "    CrossSchemaEdgeDescriptor(\n",
    "        edge_name='Airline_RegisteredIn',\n",
    "        outbound_field_reference=FieldReference(\n",
    "            schema_id='postgres',\n",
    "            type_name='Airline',\n",
    "            field_name='alpha2_country',\n",
    "        ),\n",
    "        inbound_field_reference=FieldReference(\n",
    "            schema_id='orientdb',\n",
    "            type_name='Country',\n",
    "            field_name='alpha2',\n",
    "        ),\n",
    "        out_edge_only=False,\n",
    "    )\n",
    "]"
   ]
  }
 ],
 "metadata": {
  "kernelspec": {
   "display_name": "Python 3",
   "language": "python",
   "name": "python3"
  },
  "language_info": {
   "codemirror_mode": {
    "name": "ipython",
    "version": 3
   },
   "file_extension": ".py",
   "mimetype": "text/x-python",
   "name": "python",
   "nbconvert_exporter": "python",
   "pygments_lexer": "ipython3",
   "version": "3.6.8"
  }
 },
 "nbformat": 4,
 "nbformat_minor": 4
}
